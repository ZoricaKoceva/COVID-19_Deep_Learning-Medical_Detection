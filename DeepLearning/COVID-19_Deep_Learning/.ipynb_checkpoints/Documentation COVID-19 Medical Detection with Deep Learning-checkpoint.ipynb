{
 "cells": [
  {
   "cell_type": "markdown",
   "metadata": {
    "pycharm": {
     "name": "#%% md\n"
    }
   },
   "source": [
    "# Medical Detection of COVID-19 in Macedonia using Deep Learning \n",
    "\n",
    "As the COVID-19 spread all over the world, let's make comparison between our country and other countries with COVID-19 cases\n",
    "\n",
    "The project research main language and libraries for Deep Learning:\n",
    "\n",
    "![Python_Tensorflow_Keras](https://g-search3.alicdn.com/img/bao/uploaded/i4/i3/187311270/O1CN01a7VUQd1LFhYeGn1KX_!!187311270.png)\n",
    "\n",
    "## First ever cases\n",
    "\n",
    "The mother-country China has the main role in this scenario. As in Wuhan has detected their first cases, the root of the pandemic hasn't waited for too long to spread to other cities and countries.\n",
    "\n",
    "![January_lungs_patients](january%202020%20diagnosis%20covid.jpg)\n",
    "\n",
    "## Organs direct exposed on risk\n",
    "\n",
    "Tihs is the main part of my Deep Learning research project. I'll try to find way to explain the differences in lungs from pictures taken from healthy people and people infected with COVID-19. Also the datasets should represent real numbers of cases in Macedonia\n",
    "\n",
    "Found CT scans of two types human lungs, from a geometric point of view horizontal cross section, on the left marked as a) we have healthy lungs and on the right-marked as b) lungs infected several days with COVID-19"
   ]
  },
  {
   "cell_type": "markdown",
   "metadata": {},
   "source": [
    "![Lungs_entropy_detection](https://www.mdpi.com/entropy/entropy-22-00517/article_deploy/html/images/entropy-22-00517-g001.png)"
   ]
  },
  {
   "cell_type": "markdown",
   "metadata": {},
   "source": [
    "As we can see from the pictures, there are differences in both lungs. Because of that, maybe people who don't believe, are able to see changed color and their damaged structure. So before going through code, there are procedures for the image to be preprocessed, and then those informations all fit in dataset used for creating Neural Networks all respectively classified.   "
   ]
  },
  {
   "cell_type": "markdown",
   "metadata": {},
   "source": [
    "When I made research, basic scans from lungs were these types of damaged and none-damaged numan lungs. Because of that, firstly, must find more CT lungs scans and prepare them for algorithmically image processing with Machine Learning. Now, the situation is a little bit complicated, we can split like in two branches, because of Neural Networks and Entropy the randomness in the information being processed.  After that, joining them again, features will be selected and then classified with one of classifiers."
   ]
  },
  {
   "cell_type": "raw",
   "metadata": {},
   "source": [
    "\"\"\"\n",
    "                                                                                     _Entropy feature__   \n",
    "                                                                                    /                  \\\n",
    "The whole procedure will be: CT Medical lungs scan -> Image/Scans preprocessing -> /                    ->Feature ->Classifier\n",
    "                                                                                   \\                   /  Selection\n",
    "                                                                                    \\__Neural Network_/ \n",
    "\"\"\""
   ]
  },
  {
   "cell_type": "markdown",
   "metadata": {},
   "source": [
    "### Lets make all clear. Just to be more precise in my explanation, below are shown procedure for CT lungs scan\n",
    "\n",
    "![LungsProcedure](https://www.researchgate.net/profile/Le_Lu/publication/303835720/figure/fig4/AS:688554237771784@1541175531934/Flowchart-of-the-training-framework.png)\n",
    "\n",
    "\n",
    "![LungsCTscan](https://d3i71xaburhd42.cloudfront.net/5e4deed61eaf561f2ef2a26f11ce32345ce64981/4-Figure2-1.png)"
   ]
  },
  {
   "cell_type": "markdown",
   "metadata": {},
   "source": [
    "## First days from first ever case in Macedonia\n",
    "\n",
    "From the official site from [Ministry of Health of Macedonia](http://zdravstvo.gov.mk/), I'm interested for official nubers of new COVID-19 cases in first month and July 2020 where I found from [COVID-19 pandemic in Macedonia](https://en.wikipedia.org/wiki/COVID-19_pandemic_in_North_Macedonia)"
   ]
  },
  {
   "cell_type": "markdown",
   "metadata": {},
   "source": [
    "### Genetic Algorithms from first cases data \n",
    "\n",
    "Genetic algorithms, for sure, are interesting to know are there genetic (or pandemic) mutations. I like playing with genetic algorithms so let's see what happens when I will collect cases by week for first month and current month, my prettiest July.\n",
    "\n",
    "#### February - month with first detected COVID-19 case in Macedonia\n",
    "On 26-th February Macedonia confirmed its first case of SARS-CoV-2, so to the end of month, Macedonia has no new detected cases. \n",
    "I will continue with March, when it all started to be more frightening...\n"
   ]
  },
  {
   "cell_type": "markdown",
   "metadata": {},
   "source": [
    "#### March"
   ]
  },
  {
   "cell_type": "raw",
   "metadata": {
    "pycharm": {
     "name": "#%% raw\n"
    }
   },
   "source": [
    "\n",
    "  Date         #cases % increased from previous #cases\n",
    "\n",
    "2020-03-06\t​\t3(+200%)\tA\n",
    "2020-03-07\t​\t3(+0%)\t    B\n",
    "2020-03-08\t​\t4(+33%)\t    C\n",
    "2020-03-09\t​\t7(+75%)\t    D\n",
    "2020-03-10\t​\t7(+0%)\t    E\n",
    "2020-03-11\t​\t9(+29%)\t    F\n",
    "2020-03-12\t​\t9(+0%)\t    G\n",
    "2020-03-13\t​\t13(+44%)    H - first double-digit value for #cases\n",
    "\n",
    "\n",
    "2020-03-14\t​\t19(+46%)\t\n",
    "2020-03-15\t​\t19(+0%)\t\n",
    "2020-03-16\t​\t24(+26%)\t\n",
    "2020-03-17\t​\t36(+50%)\t\n",
    "2020-03-18\t​\t48(+33%)\t\n",
    "2020-03-19\t​\t67(+40%)\t\n",
    "2020-03-20\t​\t85(+27%)\t\n",
    "2020-03-21\t​\t94(+10%)\t"
   ]
  },
  {
   "cell_type": "markdown",
   "metadata": {},
   "source": [
    "\n",
    "##### Introducing you in Genetic Algorithms\n",
    "![Genetic Algorithms](https://miro.medium.com/max/3200/1*BYDJpa6M2rzWNSurvspf8Q.png)\n"
   ]
  },
  {
   "cell_type": "raw",
   "metadata": {},
   "source": [
    "We can calculate X as X = A + B + C + D + E + F + G + H\n",
    "\n",
    "From the parameters above, X1 = 334779913\n",
    "\n",
    "Calculated from the X formula using X1 data:\n",
    "Y1 = 3+3+4+7+7+9+9+13 = 55 | 55 is the # of cases from 06-th to 13-th March \n",
    "\n",
    "From the parameters above, X2 = 1919243648678594\n",
    "Y2 = 19+19+24+36+48+67+85+94 = 392 | 392 is the # of cases from 14-th to 21-th March \n",
    "\n",
    "Cannot combine both Y1 and Y2 because of their huge differences in length.. But look at the number of cases for the first week when we have continuously increasing number of new cases and the next consecutive week.\n",
    "\n",
    "The difference is 337, almost 151% difference which is rapidly growing and really worrying for whole country.\n",
    "\n",
    "\"\"\"\n",
    "{(|55−392|)/([(55+392)/2])}×100\n",
    "\"\"\"\n",
    "\n",
    "From their growth, in reversed way for chromosome's population:\n",
    "Y2\n",
    "Y1\n",
    "\n",
    "If we can make mixture of these two chromosomes Y1 and Y2 and cut in 1/4:\n",
    "X1 = 33|4779913        --> [3 3|4 7|7 9|9 13]\n",
    "X2 = 1919|243648678594 --> [19 19|24 36|48 67|85 94]\n",
    "                                ____   _______       \n",
    "                             _>[1919]|[4779913] new chromosome Z1\n",
    "    ____   ____________     / \n",
    "X2 [1919]|[243648678594] \\ / \n",
    "           __   _______   +\n",
    "X1        [33]|[4779913] / \\    __   ____________\n",
    "                            \\_>[33]|[243648678594] new chromosome Z2\n",
    "\n",
    "Z1 = 19+19+4+7+7+9+9+13 = 87 \n",
    "Z2 = 3+3+24+36+48+67+85+94 = 360\n",
    "\n",
    "After mixing the chromosomes, deviation from Y1 and Z1 is 87-55 = 32   \\__Both are equal\n",
    "                                             Y2 and Z2 is 392-360 = 32 /"
   ]
  },
  {
   "cell_type": "markdown",
   "metadata": {},
   "source": [
    "### Neuron, (Artificial) Neural Network\n",
    "\n",
    "![Neuron](https://upload.wikimedia.org/wikipedia/commons/4/44/Neuron3.png)\n",
    "\n",
    "![Artificial Neural Network](https://i.morioh.com/2019/11/05/17923e19eeaf.jpg)"
   ]
  },
  {
   "cell_type": "markdown",
   "metadata": {},
   "source": [
    "![ANN](https://wavelet.um.ac.ir/images/359/regression-and-classification-an-artificial-neural-network-approach-8-638.jpg)\n",
    "\n",
    "![Artificial Perceptron](https://i.ibb.co/bH84pyb/Perceptron.png)"
   ]
  },
  {
   "cell_type": "markdown",
   "metadata": {
    "pycharm": {
     "name": "#%% md\n"
    }
   },
   "source": [
    "### Fourth of August bring Half thousand death COVID-19 diseased to Macedonia\n",
    "Macedonia has reached 500-th Covid-19 death case, the virus most at risk for the elderly.\n",
    "Three patients died yesterday from the Covid-19 virus, bringing the total death toll from the disease to 500.\n",
    "\n",
    "Covid-19 is most at risk for the elderly, ie it causes higher mortality in people over the age of 60 and in people with basic medical conditions, such as cardiovascular disease, chronic respiratory disease, diabetes and cancer.\n",
    "\n",
    "It is again appealed for observance of the protection measures - wearing a mask, keeping distance and frequent hand hygiene."
   ]
  },
  {
   "cell_type": "markdown",
   "metadata": {},
   "source": [
    "## Detecting and getting information from CT lungs scans using Tensorflow and Keras\n",
    "#### Dividing into two classes Healthy lungs and COVID-19 diseased for each of both Training and Test sets"
   ]
  },
  {
   "cell_type": "code",
   "execution_count": 1,
   "metadata": {},
   "outputs": [
    {
     "name": "stderr",
     "output_type": "stream",
     "text": [
      "Using TensorFlow backend.\n"
     ]
    }
   ],
   "source": [
    "# ..:Zorica~Koceva:.. #\n",
    "import keras\n",
    "import pandas as pd\n",
    "from keras.models import Sequential, Model\n",
    "from keras.layers import Dense, Dropout, Conv2D, Conv3D, LSTM, GRU, MaxPooling2D, Flatten\n",
    "from keras.preprocessing import image\n",
    "from keras.callbacks import CSVLogger\n",
    "from keras.optimizers import Adam\n",
    "import numpy as np\n",
    "import matplotlib.pyplot as plt\n",
    "from keras.losses import binary_crossentropy\n",
    "import os\n",
    "from sklearn import metrics\n",
    "from sklearn.metrics import confusion_matrix\n",
    "import seaborn as sns"
   ]
  },
  {
   "cell_type": "code",
   "execution_count": 2,
   "metadata": {},
   "outputs": [],
   "source": [
    "\"\"\"\n",
    "    _______________________________________________________________________________________________\n",
    "    \n",
    "    Defining paths for folders where I'll put digital images od CT scans for Training and Test sets\n",
    "    -------\n",
    "    source: X rays normal healthy lungs && x rays COVID-19 lungs\n",
    "    -------\n",
    "    https://www.google.com/search?q=x+rays+normal+healthy+lungs&sxsrf=ALeKk01cBs8SIp5KtflYYnstTr91YjMFUg:1596529611608&source=lnms&tbm=isch&sa=X&ved=2ahUKEwj_6v2ikIHrAhUjyIUKHfoWB_QQ_AUoAXoECAwQAw&biw=1536&bih=674\n",
    "    ________________________________________________________________________________________________\n",
    "\"\"\"\n",
    "TRAINING_FOLDER_PATH = \"COVID_Dataset/Training\"\n",
    "TEST_FOLDER_PATH = \"COVID_Dataset/Test\""
   ]
  },
  {
   "cell_type": "code",
   "execution_count": 3,
   "metadata": {},
   "outputs": [],
   "source": [
    "\n",
    "if __name__ == '__main__':\n",
    "\n",
    "    \"\"\"\n",
    "        Models:\n",
    "        For one input it's better to use Sequential Keras model\n",
    "        For 2++ (two or more) inputs, we can use Model Keras model\n",
    "    \"\"\"\n",
    "\n",
    "    \"\"\"\n",
    "        Layers:\n",
    "        *Dense - regular deeply connected neural network layer\n",
    "        *Dropout - regularization.. Easily implemented by randomly selecting nodes to be dropped-out with a given probability \n",
    "        *Conv1D, Conv2D, Conv3D - Convolution Layers \n",
    "        *LSTM - Recurrent Layer\n",
    "        *GRU - Recurrent Integration version Layer\n",
    "        *MaxPooling2D - Max pooling to a convolutional neural network in code\n",
    "        *Flatten - used to reshape the tensor to such a shape which is equal to the number of elements present in the tensor\n",
    "\n",
    "    \"\"\"\n",
    "\n",
    "    # Training model from one input (CT scan picture)\n",
    "    model_CT_lungs = Sequential()\n",
    "    model_CT_lungs.add(Conv2D(32, kernel_size=(3, 3),\n",
    "                                  activation='relu',\n",
    "                                  input_shape=(224, 224, 3)))\n",
    "    model_CT_lungs.add(Conv2D(128, (3, 3), activation='relu'))\n",
    "    model_CT_lungs.add(MaxPooling2D(pool_size=(2, 2)))\n",
    "    model_CT_lungs.add(Dropout(0.25))\n",
    "\n",
    "    model_CT_lungs.add(Conv2D(64, (3, 3), activation='relu'))\n",
    "    model_CT_lungs.add(MaxPooling2D(pool_size=(2, 2)))\n",
    "    model_CT_lungs.add(Dropout(0.25))\n",
    "\n",
    "    model_CT_lungs.add(Conv2D(128, (3, 3), activation='relu'))\n",
    "    model_CT_lungs.add(MaxPooling2D(pool_size=(2, 2)))\n",
    "    model_CT_lungs.add(Dropout(0.25))\n",
    "\n",
    "    model_CT_lungs.add(Flatten())\n",
    "    model_CT_lungs.add(Dense(64, activation='relu'))\n",
    "    model_CT_lungs.add(Dropout(0.5))\n",
    "    model_CT_lungs.add(Dense(1, activation='sigmoid'))\n",
    "\n",
    "    \"\"\"\n",
    "        The last layer is Output Layer, should have same number of neurons like number of classes (2:Healthy and COVID-19 diseased lungs)\n",
    "        Softmax function is used for classification, because to the layer gives sum of neurons to be equal to 1 (or mathematical said\n",
    "        give us probabilities for each of the classes )\n",
    "\n",
    "    \"\"\"\n"
   ]
  },
  {
   "cell_type": "code",
   "execution_count": 4,
   "metadata": {},
   "outputs": [
    {
     "name": "stdout",
     "output_type": "stream",
     "text": [
      "Model: \"sequential_1\"\n",
      "_________________________________________________________________\n",
      "Layer (type)                 Output Shape              Param #   \n",
      "=================================================================\n",
      "conv2d_1 (Conv2D)            (None, 222, 222, 32)      896       \n",
      "_________________________________________________________________\n",
      "conv2d_2 (Conv2D)            (None, 220, 220, 128)     36992     \n",
      "_________________________________________________________________\n",
      "max_pooling2d_1 (MaxPooling2 (None, 110, 110, 128)     0         \n",
      "_________________________________________________________________\n",
      "dropout_1 (Dropout)          (None, 110, 110, 128)     0         \n",
      "_________________________________________________________________\n",
      "conv2d_3 (Conv2D)            (None, 108, 108, 64)      73792     \n",
      "_________________________________________________________________\n",
      "max_pooling2d_2 (MaxPooling2 (None, 54, 54, 64)        0         \n",
      "_________________________________________________________________\n",
      "dropout_2 (Dropout)          (None, 54, 54, 64)        0         \n",
      "_________________________________________________________________\n",
      "conv2d_4 (Conv2D)            (None, 52, 52, 128)       73856     \n",
      "_________________________________________________________________\n",
      "max_pooling2d_3 (MaxPooling2 (None, 26, 26, 128)       0         \n",
      "_________________________________________________________________\n",
      "dropout_3 (Dropout)          (None, 26, 26, 128)       0         \n",
      "_________________________________________________________________\n",
      "flatten_1 (Flatten)          (None, 86528)             0         \n",
      "_________________________________________________________________\n",
      "dense_1 (Dense)              (None, 64)                5537856   \n",
      "_________________________________________________________________\n",
      "dropout_4 (Dropout)          (None, 64)                0         \n",
      "_________________________________________________________________\n",
      "dense_2 (Dense)              (None, 1)                 65        \n",
      "=================================================================\n",
      "Total params: 5,723,457\n",
      "Trainable params: 5,723,457\n",
      "Non-trainable params: 0\n",
      "_________________________________________________________________\n"
     ]
    }
   ],
   "source": [
    "\n",
    "    \"\"\"\n",
    "        Using Adam optimization algorithm that can be used instead of the classical stochastic gradient descent procedure\n",
    "        to update network weights iterative based in training data.\n",
    "        Means that a single learning rate for all weight updates and the learning rate does not change during training.\n",
    "    \"\"\"\n",
    "\n",
    "    optimizer_lungs_COVID = Adam()\n",
    "    model_CT_lungs.compile(loss=binary_crossentropy,\n",
    "                           optimizer=optimizer_lungs_COVID,\n",
    "                           metrics=['accuracy'])\n",
    "\n",
    "    # Getting all the parameters\n",
    "    model_CT_lungs.summary()\n"
   ]
  },
  {
   "cell_type": "code",
   "execution_count": 5,
   "metadata": {},
   "outputs": [],
   "source": [
    "\n",
    "    # Moulding train images\n",
    "    training_data_generator = image.ImageDataGenerator(rescale=1. / 255,\n",
    "                                                       shear_range=0.2,\n",
    "                                                       zoom_range=0.2,\n",
    "                                                       horizontal_flip=True)  # lungs shape is vertical, I don't need horizontal images\n",
    "\n",
    "    test_dataset = image.ImageDataGenerator(rescale=1. / 255)\n"
   ]
  },
  {
   "cell_type": "code",
   "execution_count": 6,
   "metadata": {},
   "outputs": [
    {
     "name": "stdout",
     "output_type": "stream",
     "text": [
      "Found 20 images belonging to 2 classes.\n",
      "Found 10 images belonging to 2 classes.\n"
     ]
    }
   ],
   "source": [
    "\n",
    "    # Reshaping both test and validation images from data sets\n",
    "    training_set_generator = training_data_generator.flow_from_directory('COVID_Dataset/Training',\n",
    "                                                                         target_size=(224, 224),\n",
    "                                                                         batch_size=32,\n",
    "                                                                         class_mode='binary')\n",
    "\n",
    "    test_set_generator = test_dataset.flow_from_directory('COVID_Dataset/Test',\n",
    "                                                           target_size=(224, 224),\n",
    "                                                           batch_size=32,\n",
    "                                                           class_mode='binary')\n",
    "\n"
   ]
  },
  {
   "cell_type": "code",
   "execution_count": null,
   "metadata": {},
   "outputs": [],
   "source": [
    "# Training the model\n",
    "covid_model_lungs_training = model_CT_lungs.fit_generator(training_set_generator,\n",
    "                                                              steps_per_epoch=10,\n",
    "                                                              epochs=15,\n",
    "                                                              validation_data=test_set_generator,\n",
    "                                                              validation_steps=2)"
   ]
  },
  {
   "cell_type": "code",
   "execution_count": null,
   "metadata": {},
   "outputs": [],
   "source": [
    "# Getting summary results from CT lungs model from training data set\n",
    "    scanCT_results = covid_model_lungs_training.history\n",
    "    print(scanCT_results)\n",
    "\n",
    "    model_CT_lungs.save(\"COVID-19_CTlungs_model.h5\")\n",
    "\n",
    "    model_CT_lungs.evaluate_generator(training_set_generator)\n",
    "\n",
    "    evaluating_test_generator = model_CT_lungs.evaluate_generator(test_set_generator)\n",
    "    print(evaluating_test_generator)"
   ]
  },
  {
   "cell_type": "code",
   "execution_count": null,
   "metadata": {},
   "outputs": [],
   "source": [
    "# Confusion Matrix for data from CT lungs scan\n",
    "\n",
    "    training_set_generator.class_indices\n",
    "    y_actual, y_test = [], []"
   ]
  },
  {
   "cell_type": "code",
   "execution_count": null,
   "metadata": {},
   "outputs": [],
   "source": [
    " # First, I will work with Test Set folder with CT scans of healthy lungs\n",
    "    for i in os.listdir(\"./COVID_Dataset/Test/Healthy/\"):\n",
    "        scanCT = image.load_img(\"./COVID_Dataset/Test/Healthy/\" + i, target_size=(224, 224))\n",
    "        scanCT = image.img_to_array(scanCT)\n",
    "        scanCT = np.expand_dims(scanCT, axis=0)  # numpy transformed\n",
    "\n",
    "        prediction_lungs_healthy = model_CT_lungs.predict_classes(scanCT)\n",
    "\n",
    "        y_test.append(prediction_lungs_healthy[0, 0])\n",
    "        y_actual.append(1)\n"
   ]
  },
  {
   "cell_type": "code",
   "execution_count": null,
   "metadata": {},
   "outputs": [],
   "source": [
    "    # And then will work with Test Set folder with CT scans of COVID-19_diseased lungs\n",
    "    for i in os.listdir(\"./COVID_Dataset/Test/COVID-19_diseased/\"):\n",
    "        scanCT = image.load_img(\"./COVID_Dataset/Test/COVID-19_diseased/\" + i, target_size=(224, 224))\n",
    "        scanCT = image.img_to_array(scanCT)\n",
    "        scanCT = np.expand_dims(scanCT, axis=0)\n",
    "\n",
    "        prediction_lungs_diseased = model_CT_lungs.predict_classes(scanCT)\n",
    "        y_test.append(prediction_lungs_diseased[0, 0])\n",
    "        y_actual.append(0)\n",
    "\n",
    "    y_actual = np.array(y_actual)\n",
    "    y_test = np.array(y_test)\n",
    "\n",
    "\n",
    "    cn = confusion_matrix(y_actual, y_test)\n",
    "\n",
    "    sns.heatmap(cn, cmap=\"plasma\", annot=True)\n",
    "    \"\"\"\n",
    "    Explanation:\n",
    "        if False, True\n",
    "        0: Covid ; 1: Normal\n",
    "    \"\"\"\n"
   ]
  },
  {
   "cell_type": "markdown",
   "metadata": {
    "pycharm": {
     "name": "#%% md\n"
    }
   },
   "source": [
    "## Result from Deep Learning separating precise only lungs"
   ]
  },
  {
   "cell_type": "markdown",
   "metadata": {},
   "source": [
    "![Lungs_separated_from_body](https://www.mdpi.com/entropy/entropy-22-00517/article_deploy/html/images/entropy-22-00517-g003.png)"
   ]
  },
  {
   "cell_type": "raw",
   "metadata": {},
   "source": [
    "Copyright © 2020 | # ..:Zorica~Koceva:.. # | All Rights Reserved."
   ]
  }
 ],
 "metadata": {
  "kernelspec": {
   "display_name": "Python 3",
   "language": "python",
   "name": "python3"
  },
  "language_info": {
   "codemirror_mode": {
    "name": "ipython",
    "version": 3
   },
   "file_extension": ".py",
   "mimetype": "text/x-python",
   "name": "python",
   "nbconvert_exporter": "python",
   "pygments_lexer": "ipython3",
   "version": "3.7.7"
  },
  "pycharm": {
   "stem_cell": {
    "cell_type": "raw",
    "metadata": {
     "collapsed": false
    },
    "source": []
   }
  }
 },
 "nbformat": 4,
 "nbformat_minor": 4
}
