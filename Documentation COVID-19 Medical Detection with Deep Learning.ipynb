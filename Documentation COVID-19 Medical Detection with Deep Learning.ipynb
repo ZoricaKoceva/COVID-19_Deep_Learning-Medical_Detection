{
 "cells": [
  {
   "cell_type": "markdown",
   "metadata": {
    "pycharm": {
     "name": "#%% md\n"
    }
   },
   "source": [
    "# Medical Detection of COVID-19 in Macedonia using Deep Learning \n",
    "\n",
    "As the COVID-19 spread all over the world, let's make comparison between our country and other countries with COVID-19 cases\n",
    "\n",
    "The project research main language and libraries for Deep Learning:\n",
    "\n",
    "![Python_Tensorflow_Keras](https://g-search3.alicdn.com/img/bao/uploaded/i4/i3/187311270/O1CN01a7VUQd1LFhYeGn1KX_!!187311270.png)\n",
    "\n",
    "## First ever cases\n",
    "\n",
    "The mother-country China has the main role in this scenario. As in Wuhan has detected their first cases, the root of the pandemic hasn't waited for too long to spread to other cities and countries.\n",
    "\n",
    "## Organs direct exposed on risk\n",
    "\n",
    "Tihs is the main part of my Deep Learning research project. I'll try to find way to explain the differences in lungs from pictures taken from healthy people and people infected with COVID-19. Also the datasets should represent real numbers of cases in Macedonia\n",
    "\n",
    "Found CT scans of two types human lungs, from a geometric point of view horizontal cross section, on the left marked as a) we have healthy lungs and on the right-marked as b) lungs infected several days with COVID-19"
   ]
  },
  {
   "cell_type": "markdown",
   "metadata": {},
   "source": [
    "![Lungs_entropy_detection](https://www.mdpi.com/entropy/entropy-22-00517/article_deploy/html/images/entropy-22-00517-g001.png)"
   ]
  },
  {
   "cell_type": "markdown",
   "metadata": {},
   "source": [
    "As we can see from the pictures, there are differences in both lungs. Because of that, maybe people who don't believe, are able to see changed color and their damaged structure. So before going through code, there are procedures for the image to be preprocessed, and then those informations all fit in dataset used for creating Neural Networks all respectively classified.   "
   ]
  },
  {
   "cell_type": "markdown",
   "metadata": {},
   "source": [
    "When I made research, basic scans from lungs were these types of damaged and none-damaged numan lungs. Because of that, firstly, must find more CT lungs scans and prepare them for algorithmically image processing with Machine Learning. Now, the situation is a little bit complicated, we can split like in two branches, because of Neural Networks and Entropy the randomness in the information being processed.  After that, joining them again, features will be selected and then classified with one of classifiers."
   ]
  },
  {
   "cell_type": "raw",
   "metadata": {},
   "source": [
    "\"\"\"\n",
    "                                                                                     _Entropy feature__   \n",
    "                                                                                    /                  \\\n",
    "The whole procedure will be: CT Medical lungs scan -> Image/Scans preprocessing -> /                    ->Feature ->Classifier\n",
    "                                                                                   \\                   /  Selection\n",
    "                                                                                    \\__Neural Network_/ \n",
    "\"\"\""
   ]
  },
  {
   "cell_type": "markdown",
   "metadata": {},
   "source": [
    "### Lets make all clear. Just to be more precise in my explanation, below are shown procedure for CT lungs scan\n",
    "\n",
    "![LungsProcedure](https://www.researchgate.net/profile/Le_Lu/publication/303835720/figure/fig4/AS:688554237771784@1541175531934/Flowchart-of-the-training-framework.png)\n",
    "\n",
    "![LungsCTscan](https://d3i71xaburhd42.cloudfront.net/5e4deed61eaf561f2ef2a26f11ce32345ce64981/4-Figure2-1.png)"
   ]
  },
  {
   "cell_type": "markdown",
   "metadata": {},
   "source": [
    "## First days from first ever case in Macedonia\n",
    "\n",
    "From the official site from [Ministry of Health of Macedonia](http://zdravstvo.gov.mk/), I'm interested for official nubers of new COVID-19 cases in first month and July 2020 where I found from [COVID-19 pandemic in Macedonia](https://en.wikipedia.org/wiki/COVID-19_pandemic_in_North_Macedonia)"
   ]
  },
  {
   "cell_type": "markdown",
   "metadata": {},
   "source": [
    "### Genetic Algorithms from first cases data \n",
    "\n",
    "Genetic algorithms, for sure, are interesting to know are there genetic (or pandemic) mutations. I like playing with genetic algorithms so let's see what happens when I will collect cases by week for first month and current month, my prettiest July.\n",
    "\n",
    "#### February - month with first detected COVID-19 case in Macedonia\n",
    "On 26-th February Macedonia confirmed its first case of SARS-CoV-2, so to the end of month, Macedonia has no new detected cases. \n",
    "I will continue with March, when it all started to be more frightening...\n"
   ]
  },
  {
   "cell_type": "markdown",
   "metadata": {},
   "source": [
    "#### March"
   ]
  },
  {
   "cell_type": "raw",
   "metadata": {},
   "source": [
    "\n",
    "  Date         #cases % increased from previous #cases\n",
    "\n",
    "2020-03-06\t​\t3(+200%)\tA\n",
    "2020-03-07\t​\t3(+0%)\t    B\n",
    "2020-03-08\t​\t4(+33%)\t    C\n",
    "2020-03-09\t​\t7(+75%)\t    D\n",
    "2020-03-10\t​\t7(+0%)\t    E\n",
    "2020-03-11\t​\t9(+29%)\t    F\n",
    "2020-03-12\t​\t9(+0%)\t    G\n",
    "2020-03-13\t​\t13(+44%)    H - first double-digit value for #cases\n",
    "\n",
    "\n",
    "2020-03-14\t​\t19(+46%)\t\n",
    "2020-03-15\t​\t19(+0%)\t\n",
    "2020-03-16\t​\t24(+26%)\t\n",
    "2020-03-17\t​\t36(+50%)\t\n",
    "2020-03-18\t​\t48(+33%)\t\n",
    "2020-03-19\t​\t67(+40%)\t\n",
    "2020-03-20\t​\t85(+27%)\t\n",
    "2020-03-21\t​\t94(+10%)\t"
   ]
  },
  {
   "cell_type": "markdown",
   "metadata": {},
   "source": [
    "\n",
    "##### Introducing you in Genetic Algorithms\n",
    "![Genetic Algorithms](https://miro.medium.com/max/3200/1*BYDJpa6M2rzWNSurvspf8Q.png)\n"
   ]
  },
  {
   "cell_type": "raw",
   "metadata": {},
   "source": [
    "We can calculate X as X = A + B + C + D + E + F + G + H\n",
    "\n",
    "From the parameters above, X1 = 334779913\n",
    "\n",
    "Calculated from the X formula using X1 data:\n",
    "Y1 = 3+3+4+7+7+9+9+13 = 55 | 55 is the # of cases from 06-th to 13-th March \n",
    "\n",
    "From the parameters above, X2 = 1919243648678594\n",
    "Y2 = 19+19+24+36+48+67+85+94 = 392 | 392 is the # of cases from 14-th to 21-th March \n",
    "\n",
    "Cannot combine both Y1 and Y2 because of their huge differences in length.. But look at the number of cases for the first week when we have continuously increasing number of new cases and the next consecutive week.\n",
    "\n",
    "The difference is 337, almost 151% difference which is rapidly growing and really worrying for whole country.\n",
    "\n",
    "\"\"\"\n",
    "{(|55−392|)/([(55+392)/2])}×100\n",
    "\"\"\"\n",
    "\n",
    "From their growth, in reversed way for chromosome's population:\n",
    "Y2\n",
    "Y1\n",
    "\n",
    "If we can make mixture of these two chromosomes Y1 and Y2 and cut in 1/4:\n",
    "X1 = 33|4779913        --> [3 3|4 7|7 9|9 13]\n",
    "X2 = 1919|243648678594 --> [19 19|24 36|48 67|85 94]\n",
    "                                ____   _______       \n",
    "                             _>[1919]|[4779913] new chromosome Z1\n",
    "    ____   ____________     / \n",
    "X2 [1919]|[243648678594] \\ / \n",
    "           __   _______   +\n",
    "X1        [33]|[4779913] / \\    __   ____________\n",
    "                            \\_>[33]|[243648678594] new chromosome Z2\n",
    "\n",
    "Z1 = 19+19+4+7+7+9+9+13 = 87 \n",
    "Z2 = 3+3+24+36+48+67+85+94 = 360\n",
    "\n",
    "After mixing the chromosomes, deviation from Y1 and Z1 is 87-55 = 32   \\__Both are equal\n",
    "                                             Y2 and Z2 is 392-360 = 32 /"
   ]
  },
  {
   "cell_type": "markdown",
   "metadata": {},
   "source": [
    "### Neuron, (Artificial) Neural Network\n",
    "\n",
    "![Neuron](https://upload.wikimedia.org/wikipedia/commons/4/44/Neuron3.png)\n",
    "\n",
    "![Artificial Neural Network](https://i.morioh.com/2019/11/05/17923e19eeaf.jpg)"
   ]
  },
  {
   "cell_type": "markdown",
   "metadata": {},
   "source": [
    "![ANN](https://wavelet.um.ac.ir/images/359/regression-and-classification-an-artificial-neural-network-approach-8-638.jpg)\n",
    "\n",
    "![Artificial Perceptron](https://i.ibb.co/bH84pyb/Perceptron.png)"
   ]
  },
  {
   "cell_type": "raw",
   "metadata": {},
   "source": [
    ".\n",
    ".\n",
    ".\n",
    "."
   ]
  },
  {
   "cell_type": "markdown",
   "metadata": {},
   "source": [
    "## Result from Deep Learning separating precise only lungs"
   ]
  },
  {
   "cell_type": "markdown",
   "metadata": {},
   "source": [
    "![Lungs_separated_from_body](https://www.mdpi.com/entropy/entropy-22-00517/article_deploy/html/images/entropy-22-00517-g003.png)"
   ]
  },
  {
   "cell_type": "raw",
   "metadata": {},
   "source": [
    "Copyright © 2020 | # ..:Zorica~Koceva:.. # | All Rights Reserved."
   ]
  }
 ],
 "metadata": {
  "kernelspec": {
   "display_name": "Python 3",
   "language": "python",
   "name": "python3"
  },
  "language_info": {
   "codemirror_mode": {
    "name": "ipython",
    "version": 3
   },
   "file_extension": ".py",
   "mimetype": "text/x-python",
   "name": "python",
   "nbconvert_exporter": "python",
   "pygments_lexer": "ipython3",
   "version": "3.7.7"
  },
  "pycharm": {
   "stem_cell": {
    "cell_type": "raw",
    "metadata": {
     "collapsed": false
    },
    "source": []
   }
  }
 },
 "nbformat": 4,
 "nbformat_minor": 4
}
